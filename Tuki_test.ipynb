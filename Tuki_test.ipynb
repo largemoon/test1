{
    "metadata": {
        "celltoolbar": "Raw Cell Format", 
        "language_info": {
            "codemirror_mode": {
                "version": 2, 
                "name": "ipython"
            }, 
            "file_extension": ".py", 
            "mimetype": "text/x-python", 
            "version": "2.7.5", 
            "pygments_lexer": "ipython2", 
            "nbconvert_exporter": "python", 
            "name": "python"
        }, 
        "kernelspec": {
            "display_name": "Spark IPython", 
            "language": "python", 
            "name": "idax-python"
        }
    }, 
    "cells": [
        {
            "outputs": [], 
            "cell_type": "code", 
            "execution_count": null, 
            "metadata": {
                "collapsed": false
            }, 
            "source": "# \u30c7\u30e2\u306b\u5fc5\u8981\u306a\u30e9\u30a4\u30d6\u30e9\u30ea\u30fc\u3092\u8aad\u307f\u8fbc\u307f\nfrom pyspark.mllib.classification import LogisticRegressionWithLBFGS, LogisticRegressionModel\nfrom pyspark.mllib.regression import LabeledPoint\nfrom pyspark.sql.types import *\nimport numpy as np\nimport matplotlib.pyplot as plt"
        }, 
        {
            "outputs": [], 
            "cell_type": "code", 
            "execution_count": null, 
            "metadata": {
                "collapsed": false
            }, 
            "source": "# csv\u30d5\u30a1\u30a4\u30eb\u306e\u30c7\u30fc\u30bf\u578b\u3092\u5ba3\u8a00\u3057\u3066\u8aad\u307f\u8fbc\u307f\nlrdataschema = StructType([\n    StructField(\"X1\", FloatType(), True),\n    StructField(\"X2\", FloatType(), True),\n    StructField(\"Label\", IntegerType(), True)])\ninputData = spark.read.csv(\"logisticRegressionData.csv\", mode=\"DROPMALFORMED\", schema=lrdataschema)"
        }, 
        {
            "outputs": [], 
            "cell_type": "code", 
            "execution_count": null, 
            "metadata": {
                "collapsed": true
            }, 
            "source": "# NumPy\u914d\u5217\u306b\u5909\u63db\u3057\u3066\u30e9\u30d9\u30eb\u3068\u8aac\u660e\u5909\u6570\u306b\u5206\u96e2\nar = np.array(inputData.rdd.map(lambda row: [row[0], row[1], row[2]]).collect())\nL=ar[:,2] ; X1=ar[:,0] ; X2=ar[:,1]"
        }, 
        {
            "outputs": [], 
            "cell_type": "code", 
            "execution_count": null, 
            "metadata": {
                "scrolled": true, 
                "collapsed": false
            }, 
            "source": "# \u30c7\u30fc\u30bf\u3092\u967d\u6027\u3068\u9670\u6027\u306b\u5206\u96e2\u3057\u3066\u30d7\u30ed\u30c3\u30c8\nX1_0 = X1[L==0] ; X2_0 = X2[L==0]\nX1_1 = X1[L==1] ; X2_1 = X2[L==1]\n\n%matplotlib inline\nplt.axis([-1,1.5,-1,1.5])\nplt.plot(X1_0,X2_0,\"o\",X1_1,X2_1,\"x\")"
        }, 
        {
            "outputs": [], 
            "cell_type": "code", 
            "execution_count": null, 
            "metadata": {
                "collapsed": false
            }, 
            "source": "# \u3044\u304f\u3064\u304b\u306e\u30c7\u30fc\u30bf\u3092\u305d\u306e\u307e\u307e\u51fa\u529b\nfor i in range(0,120,25):\n    print(\"Label:\", L[i], \"X1\", X1[i], \"X2\", X2[i])"
        }, 
        {
            "outputs": [], 
            "cell_type": "code", 
            "execution_count": null, 
            "metadata": {
                "collapsed": false
            }, 
            "source": "# \u66f2\u7dda\uff08\u5186\u5f27\uff09\u306e\u30e2\u30c7\u30eb\u3092\u5f97\u308b\u305f\u3081\u306b\u8aac\u660e\u5909\u6570\u3092\u591a\u9805\u5f0f\u306b\u5c55\u958b\nlist2=[]\nfor i in range(len(L)):\n    list2.append(LabeledPoint(L[i], \\\n            [X1[i], X2[i], X1[i]**2, X1[i]*X2[i], X2[i]**2,\n            X1[i]**3, X1[i]**2 * X2[i], X1[i]**1 * X2[i]**2, X2[i]**3,\n            X1[i]**4, X1[i]**3 * X2[i], X1[i]**2 * X2[i]**2, X1[i]**1 * X2[i]**3, X2[i]**4, \\\n            X1[i]**5, X1[i]**4 * X2[i], X1[i]**3 * X2[i]**2, X1[i]**2 * X2[i]**3, X1[i]**1 * X2[i]**4, X2[i]**5,\n            X1[i]**6, X1[i]**5 * X2[i], X1[i]**4 * X2[i]**2, X1[i]**3 * X2[i]**3, X1[i]**2 * X2[i]**4, X1[i]**1 * X2[i]**5, X2[i]**6\n            ]))\nparsedData = sc.parallelize(list2)"
        }, 
        {
            "outputs": [], 
            "cell_type": "code", 
            "execution_count": null, 
            "metadata": {
                "collapsed": false
            }, 
            "source": "# \u30c7\u30fc\u30bf\u3092\u30ed\u30b8\u30b9\u30c6\u30a3\u30c3\u30af\u30b9\u56de\u5e30\u306e\u30e9\u30a4\u30d6\u30e9\u30ea\u30fc\u306b\u6295\u5165\u3057\u3066\u30e2\u30c7\u30eb\u306e\u5b66\u7fd2\u3092\u5b9f\u884c\nmodel = LogisticRegressionWithLBFGS.train(parsedData)"
        }, 
        {
            "outputs": [], 
            "cell_type": "code", 
            "execution_count": null, 
            "metadata": {
                "collapsed": false
            }, 
            "source": "# \u5b66\u7fd2\u306e\u7d50\u679c\u3068\u3057\u3066\u5f97\u3089\u308c\u305f\u30e2\u30c7\u30eb\u306e\u30d1\u30e9\u30e1\u30fc\u30bf\u30fc\u3092\u8868\u793a\nlabelsAndPreds = parsedData.map(lambda p: (p.label, model.predict(p.features)))\ntrainAcc = labelsAndPreds.filter(lambda (v, p): v == p).count() / float(parsedData.count())\nprint(\"Training Accuracy = \" + str(trainAcc))\nprint(model.weights)"
        }, 
        {
            "outputs": [], 
            "cell_type": "code", 
            "execution_count": null, 
            "metadata": {
                "collapsed": false
            }, 
            "source": "# \u30e2\u30c7\u30eb\u3092\u53ef\u8996\u5316\u3059\u308b\u305f\u3081\u306b\u3001\u30e2\u30c7\u30eb\u306e\u30d1\u30e9\u30e1\u30fc\u30bf\u30fc\u304b\u3089\u5f97\u3089\u308c\u308b\u6c7a\u5b9a\u5883\u754c\u3092\u8a08\u7b97\nu = np.linspace(-1, 1.5, 50)\nv = np.linspace(-1, 1.5, 50)\nz = np.zeros(( len(u), len(v) ))\n\nfor i in xrange(len(u)):\n    for j in xrange(len(v)):\n        z[i,j] = np.dot([u[i], v[j], u[i]**2, u[i]*v[j], v[j]**2, \\\n                         u[i]**3, u[i]**2 * v[j]**1, u[i]**1 * v[j]**2, v[j]**3, \\\n                         u[i]**4, u[i]**3 * v[j]**1, u[i]**2 * v[j]**2, u[i]**1 * v[j]**3, v[j]**4, \\\n                         u[i]**5, u[i]**4 * v[j]**1, u[i]**3 * v[j]**2, u[i]**2 * v[j]**3, u[i]**1 * v[j]**4, v[j]**5, \\\n                         u[i]**6, u[i]**5 * v[j]**1, u[i]**4 * v[j]**2, u[i]**3 * v[j]**3, u[i]**2 * v[j]**4, u[i]**1 * v[j]**5, v[j]**6] ,model.weights)\n        \nz = np.transpose(z)\n# \u30c7\u30fc\u30bf\u3068\u6c7a\u5b9a\u5883\u754c\u3092\u30d7\u30ed\u30c3\u30c8\nplt.axis([-1,1.5,-1,1.5])\nplt.plot(X1_0,X2_0,\"o\",X1_1,X2_1,\"x\")\nplt.contour(u, v, z, levels=[0], linewidth=2).collections[0]"
        }, 
        {
            "outputs": [], 
            "cell_type": "code", 
            "execution_count": null, 
            "metadata": {
                "collapsed": true
            }, 
            "source": ""
        }
    ], 
    "nbformat": 4, 
    "nbformat_minor": 2
}